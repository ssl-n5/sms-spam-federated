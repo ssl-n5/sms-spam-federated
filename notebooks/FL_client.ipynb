{
  "cells": [
    {
      "attachments": {},
      "cell_type": "markdown",
      "metadata": {
        "id": "-v40-TCc-t6t"
      },
      "source": [
        "\n",
        "\n",
        "1.   Run this first to mount drive, then cd to appropriate folder.\n"
      ]
    },
    {
      "cell_type": "code",
      "execution_count": 1,
      "metadata": {
        "colab": {
          "base_uri": "https://localhost:8080/"
        },
        "id": "R5vxD7v0-c9R",
        "outputId": "4147240f-b1f0-47a0-82f9-ce77e5395968"
      },
      "outputs": [],
      "source": [
        "colab = False\n",
        "\n",
        "if colab:\n",
        "    from google.colab import drive\n",
        "    drive.mount('/content/drive/', force_remount=True)"
      ]
    },
    {
      "cell_type": "code",
      "execution_count": null,
      "metadata": {
        "colab": {
          "base_uri": "https://localhost:8080/"
        },
        "id": "63XS5x9A-tp-",
        "outputId": "a4c2afeb-817a-496e-9e0d-17af0ae4b9b6"
      },
      "outputs": [
        {
          "name": "stdout",
          "output_type": "stream",
          "text": [
            "/content/drive/.shortcut-targets-by-id/1y9XYxPPSA_BuwrgEldj9-q_4xdMkiPui/Thesis\n"
          ]
        }
      ],
      "source": [
        "#%cd /content/drive/MyDrive/EEE199/Thesis"
      ]
    },
    {
      "cell_type": "code",
      "execution_count": 2,
      "metadata": {},
      "outputs": [],
      "source": [
        "import os\n",
        "import sys\n",
        "sys.path.append(\"..\")"
      ]
    },
    {
      "attachments": {},
      "cell_type": "markdown",
      "metadata": {
        "id": "89rVqgZcQwTW"
      },
      "source": [
        "2. Preprocess database, edit location in main"
      ]
    },
    {
      "cell_type": "code",
      "execution_count": 3,
      "metadata": {
        "id": "b_el0aHECaMU"
      },
      "outputs": [],
      "source": [
        "import numpy as np\n",
        "import pandas as pd\n",
        "import re\n",
        "from sklearn.svm import SVC\n",
        "from sklearn.model_selection import train_test_split\n",
        "from sklearn.model_selection import cross_val_score\n",
        "from sklearn.metrics import (\n",
        "    precision_score, recall_score, classification_report,\n",
        "    accuracy_score, f1_score, confusion_matrix, ConfusionMatrixDisplay,  make_scorer\n",
        ")\n",
        "import matplotlib.pyplot as plt\n",
        "from matplotlib.colors import ListedColormap\n",
        "from sklearn import metrics\n",
        "import pickle\n",
        "from collections import Counter\n",
        "import warnings\n",
        "from sklearn.utils import resample\n",
        "import os\n",
        "from sklearn.utils import class_weight\n",
        "from sklearn.utils import shuffle\n",
        "from python import FL_server\n",
        "\n",
        "# Suppress all warnings from scikit-learn\n",
        "warnings.filterwarnings(\"ignore\")\n",
        "\n",
        "#Print for Debug\n",
        "debug = \"Baygon\"\n"
      ]
    },
    {
      "cell_type": "code",
      "execution_count": 4,
      "metadata": {
        "id": "U75a8l_ZDMPa"
      },
      "outputs": [],
      "source": [
        "#IMPORT ALL DATA FILES FOR CLIENTS\n",
        "\n",
        "client1_train_data = np.load('clients_data/client1_train_inputs_new.npy')\n",
        "client2_train_data = np.load('clients_data/client2_train_inputs_new.npy')\n",
        "client3_train_data = np.load('clients_data/client3_train_inputs_new.npy')\n",
        "client1_test_data = np.load('clients_data/client1_test_inputs_new.npy')\n",
        "client2_test_data = np.load('clients_data/client2_test_inputs_new.npy')\n",
        "client3_test_data = np.load('clients_data/client3_test_inputs_new.npy')\n",
        "\n",
        "client1_train_labels = pd.read_csv('clients_data/client1_train_labels_new.csv')\n",
        "client2_train_labels = pd.read_csv('clients_data/client2_train_labels_new.csv')\n",
        "client3_train_labels = pd.read_csv('clients_data/client3_train_labels_new.csv')\n",
        "client1_test_labels = pd.read_csv('clients_data/client1_test_labels_new.csv')\n",
        "client2_test_labels = pd.read_csv('clients_data/client2_test_labels_new.csv')\n",
        "client3_test_labels = pd.read_csv('clients_data/client3_test_labels_new.csv')\n",
        "\n",
        "trainset = [client1_train_labels,client2_train_labels,client3_train_labels]\n",
        "testset = [client1_test_labels,client2_test_labels,client3_test_labels]\n",
        "\n",
        "for count in range(len(trainset)):\n",
        "  series = trainset[count]\n",
        "  indx = series.index\n",
        "  index = [series.iloc[i, 0] for i in range(0,len(indx))]\n",
        "  vals = [series.iloc[i, 1] for i in range(0,len(indx))]\n",
        "  trainset[count]= pd.Series(vals, index)\n",
        "\n",
        "for count in range(len(testset)):\n",
        "  series = testset[count]\n",
        "  indx = series.index\n",
        "  index = [series.iloc[i, 0] for i in range(0,len(indx))]\n",
        "  vals = [series.iloc[i, 1] for i in range(0,len(indx))]\n",
        "  testset[count]= pd.Series(vals, index)"
      ]
    },
    {
      "cell_type": "code",
      "execution_count": 5,
      "metadata": {
        "id": "wrelnVdbn3y6"
      },
      "outputs": [],
      "source": [
        "# MODEL TRAINING\n",
        "\n",
        "def client_training(data, label, model, batch_size):\n",
        "    # Separate majority and minority classes\n",
        "    majority_samples = data[label == 0]\n",
        "    minority_samples = data[label == 1]\n",
        "\n",
        "    # Determine the number of samples in the majority and minority classes\n",
        "    num_minority_samples = len(minority_samples)\n",
        "    num_majority_samples = len(majority_samples)\n",
        "\n",
        "    # Determine the number of batches needed for balancing based on majority samples\n",
        "    num_batches = int(np.ceil(num_majority_samples / batch_size))\n",
        "\n",
        "    balanced_data = []\n",
        "    balanced_labels = []\n",
        "\n",
        "    # Iterate over each batch\n",
        "    for i in range(num_batches):\n",
        "        start_idx = i * batch_size\n",
        "        end_idx = min((i + 1) * batch_size, num_majority_samples)\n",
        "\n",
        "        # Select a subset of majority samples for the current batch\n",
        "        majority_batch = majority_samples[start_idx:end_idx]\n",
        "\n",
        "        # Randomly sample minority samples for the current batch\n",
        "        minority_batch = minority_samples[np.random.choice(num_minority_samples, size=end_idx - start_idx, replace=True)]\n",
        "\n",
        "        # Combine the majority and minority samples\n",
        "        batch_data = np.concatenate((majority_batch, minority_batch))\n",
        "        batch_labels = np.concatenate((np.zeros(len(majority_batch)), np.ones(len(minority_batch))))\n",
        "\n",
        "        # Shuffle the batch data and labels\n",
        "        batch_data, batch_labels = shuffle(batch_data, batch_labels)\n",
        "\n",
        "        balanced_data.append(batch_data)\n",
        "        balanced_labels.append(batch_labels)\n",
        "\n",
        "    balanced_data = np.vstack(balanced_data)\n",
        "    balanced_labels = np.concatenate(balanced_labels)\n",
        "\n",
        "    # Train the model using balanced batches\n",
        "    model.fit(balanced_data, balanced_labels)\n",
        "\n",
        "    return model\n"
      ]
    },
    {
      "cell_type": "code",
      "execution_count": 6,
      "metadata": {
        "id": "j-iqsNEuowhf"
      },
      "outputs": [],
      "source": [
        "# MODEL AGGREGATOR\n",
        "\n",
        "def FedAvg(clients,client_weights,server_model):\n",
        "    max_num_sv = max([client.support_vectors_.shape[0] for client in clients])\n",
        "    aggregated_support_vectors = np.zeros((max_num_sv, clients[0].support_vectors_.shape[1]))\n",
        "    aggregated_labels = np.array([])\n",
        "\n",
        "    # Aggregate the support vectors and labels based on client weights\n",
        "    for client, weight in zip(clients, client_weights):\n",
        "        num_sv = client.support_vectors_.shape[0]\n",
        "        support_vectors = client.support_vectors_\n",
        "        labels = client.predict(support_vectors)\n",
        "        padding = max_num_sv - num_sv\n",
        "        padded_support_vectors = np.pad(support_vectors, [(0, padding), (0, 0)], mode='constant')\n",
        "        aggregated_support_vectors += weight * padded_support_vectors\n",
        "        aggregated_labels = np.concatenate((aggregated_labels, labels))\n",
        "\n",
        "    aggregated_labels = aggregated_labels[:max_num_sv]\n",
        "\n",
        "    server_model.fit(aggregated_support_vectors, aggregated_labels)\n",
        "    return server_model"
      ]
    },
    {
      "cell_type": "code",
      "execution_count": null,
      "metadata": {
        "id": "nHZm8Cyiqme3"
      },
      "outputs": [],
      "source": [
        "# MODEL EVALUATION\n",
        "\n",
        "def evaluate(model,X_test,y_test,X_train,y_train):\n",
        "\n",
        "  # Perform predictions and compute scores for the server model\n",
        "  pred_train = model.predict(X_train)\n",
        "  pred_test = model.predict(X_test)\n",
        "  prec = metrics.precision_score(y_test, pred_test)\n",
        "  recal = metrics.recall_score(y_test, pred_test)\n",
        "  f1_s = metrics.f1_score(y_test, pred_test)\n",
        "  train_accuracy = accuracy_score(y_train, pred_train)\n",
        "  test_accuracy = accuracy_score(y_test, pred_test)\n",
        "\n",
        "  return prec,recal,f1_s,train_accuracy,test_accuracy\n",
        "\n"
      ]
    },
    {
      "cell_type": "code",
      "execution_count": null,
      "metadata": {
        "id": "XIQnYIrdggCa"
      },
      "outputs": [],
      "source": [
        "#CROSS VALIDATION\n",
        "\n",
        "def validate(model,X_train,y_train):\n",
        "  # Define the scoring function\n",
        "  scorer = make_scorer(precision_score, pos_label=1)  # Set pos_label to the minority class label\n",
        "\n",
        "  # Perform cross-validation with precision as the metric\n",
        "  cv_scores = cross_val_score(model, X_train, y_train, cv=10, scoring=scorer)\n",
        "\n",
        "  return cv_scores\n"
      ]
    },
    {
      "cell_type": "code",
      "execution_count": null,
      "metadata": {
        "colab": {
          "base_uri": "https://localhost:8080/"
        },
        "id": "U8eDhoRhrYKc",
        "outputId": "15fd4bab-339d-442f-f0e1-1c4b7cd988ea"
      },
      "outputs": [
        {
          "name": "stdout",
          "output_type": "stream",
          "text": [
            "Round 1 Execution time: 142.39 seconds\n",
            "Round 2 Execution time: 122.03 seconds\n",
            "Round 3 Execution time: 122.14 seconds\n",
            "Round 4 Execution time: 106.34 seconds\n",
            "Round 5 Execution time: 123.27 seconds\n",
            "Round 6 Execution time: 124.24 seconds\n",
            "Round 7 Execution time: 107.67 seconds\n",
            "Round 8 Execution time: 108.98 seconds\n",
            "Round 9 Execution time: 110.78 seconds\n",
            "Round 10 Execution time: 108.64 seconds\n",
            "Round 11 Execution time: 108.87 seconds\n",
            "Round 12 Execution time: 106.59 seconds\n",
            "Round 13 Execution time: 109.50 seconds\n",
            "Round 14 Execution time: 108.16 seconds\n",
            "Round 15 Execution time: 112.28 seconds\n",
            "Round 16 Execution time: 109.23 seconds\n",
            "Round 17 Execution time: 107.58 seconds\n",
            "Round 18 Execution time: 106.75 seconds\n",
            "Round 19 Execution time: 106.66 seconds\n",
            "Round 20 Execution time: 106.22 seconds\n",
            "\n",
            "Client 1:\n",
            "CV Precision: 0.9577380952380953\n",
            "Precision: 1.0\n",
            "Recall: 0.5921052631578947\n",
            "F1 Score: 0.743801652892562\n",
            "Train Accuracy: 0.9598124581379772\n",
            "Test Accuracy: 0.9516380655226209\n",
            "\n",
            "\n",
            "Client 2:\n",
            "CV Precision: 0.9928571428571429\n",
            "Precision: 1.0\n",
            "Recall: 0.64\n",
            "F1 Score: 0.7804878048780487\n",
            "Train Accuracy: 0.9509738079247817\n",
            "Test Accuracy: 0.957680250783699\n",
            "\n",
            "\n",
            "Client 3:\n",
            "CV Precision: 0.9875\n",
            "Precision: 0.9622641509433962\n",
            "Recall: 0.68\n",
            "F1 Score: 0.796875\n",
            "Train Accuracy: 0.9993284083277367\n",
            "Test Accuracy: 0.9592476489028213\n",
            "\n"
          ]
        }
      ],
      "source": [
        "#Training and Evaluation Loop\n",
        "import time\n",
        "# Initialize global models\n",
        "global_model = SVC()\n",
        "batch_size = 32\n",
        "epoch = 20\n",
        "clients = [\n",
        "    {\"train_data\": client1_train_data, \"train_labels\": trainset[0], \"test_data\": client1_test_data, \"test_labels\": testset[0], \"model\": SVC()},\n",
        "    {\"train_data\": client2_train_data, \"train_labels\": trainset[1], \"test_data\": client2_test_data, \"test_labels\": testset[1], \"model\": SVC()},\n",
        "    {\"train_data\": client3_train_data, \"train_labels\": trainset[2], \"test_data\": client3_test_data, \"test_labels\": testset[2], \"model\": SVC()}\n",
        "]\n",
        "\n",
        "prev_metrics = {}  # Dictionary to store previous epoch's metrics\n",
        "\n",
        "for i in range(epoch):\n",
        "    start_time = time.time()\n",
        "    for client in clients:\n",
        "        client_model = client[\"model\"]\n",
        "        client_model = client_training(client[\"train_data\"], client[\"train_labels\"], client_model, batch_size)\n",
        "\n",
        "    # Evaluate metrics for the current epoch\n",
        "    curr_metrics = {}\n",
        "    for index, client in enumerate(clients):\n",
        "        client_model = client[\"model\"]\n",
        "        precision, recall, _, _, _ = evaluate(\n",
        "            client_model, client[\"test_data\"], client[\"test_labels\"], client[\"train_data\"], client[\"train_labels\"]\n",
        "        )\n",
        "        curr_metrics[index] = (precision,recall)\n",
        "    retrain = [\n",
        "        index for index, client in enumerate(clients)\n",
        "        if curr_metrics[index][0] == 0\n",
        "    ]\n",
        "    if retrain:\n",
        "      for index in retrain:\n",
        "        while curr_metrics[index][0] == 0:\n",
        "                  clients[index][\"model\"] = client_training(clients[index][\"train_data\"], clients[index][\"train_labels\"], clients[index][\"model\"], batch_size)\n",
        "                  precision, recall, _, _, _  = evaluate(clients[index][\"model\"], clients[index][\"test_data\"], clients[index][\"test_labels\"], clients[index][\"train_data\"], clients[index][\"train_labels\"])\n",
        "                  curr_metrics[index] = (precision,recall)\n",
        "\n",
        "    precisions = [curr_metrics[index][0] for index, client in enumerate(clients)]\n",
        "    recalls = [curr_metrics[index][0] for index, client in enumerate(clients)]\n",
        "    total_precision = sum(precisions)\n",
        "    total_recall = sum(recalls)\n",
        "    client_weights = [(precision + recall) / (total_precision + total_recall) for precision, recall in zip(precisions, recalls)]\n",
        "\n",
        "    if i == 0:\n",
        "        #print(debug)\n",
        "        global_model = FL_server.FedAvg([client[\"model\"] for client in clients], client_weights,global_model)\n",
        "        prev_metrics = curr_metrics\n",
        "    else:\n",
        "        improved_client_indices = [\n",
        "            index for index, client in enumerate(clients)\n",
        "            if (curr_metrics[index][0] > prev_metrics[index][0] or curr_metrics[index][1] > prev_metrics[index][1])\n",
        "        ]\n",
        "\n",
        "        if improved_client_indices:\n",
        "            #print(debug)\n",
        "            client_models = [clients[index][\"model\"] for index in improved_client_indices]\n",
        "            global_model = FL_server.FedAvg(client_models,client_weights,global_model)\n",
        "            prev_metrics = curr_metrics\n",
        "\n",
        "    # Update the models of all clients to the global model\n",
        "    for client in clients:\n",
        "        client[\"model\"] = global_model\n",
        "\n",
        "\n",
        "    end_time = time.time()\n",
        "    execution_time = (end_time - start_time)\n",
        "    print(f\"Round {i+1} Execution time: {execution_time:.2f} seconds\")\n",
        "\n",
        "# Evaluate and print the final performance metrics\n",
        "for index, client in enumerate(clients):\n",
        "    client_model = client[\"model\"]\n",
        "    precision, recall, f1_score, train_accuracy, test_accuracy = evaluate(\n",
        "        client_model, client[\"test_data\"], client[\"test_labels\"], client[\"train_data\"], client[\"train_labels\"]\n",
        "    )\n",
        "    cv_score = validate(client_model, client[\"train_data\"], client[\"train_labels\"])\n",
        "\n",
        "    # Print the metrics for the current client\n",
        "    print()\n",
        "    print(f\"Client {index + 1}:\")\n",
        "    print(f\"CV Precision: {cv_score.mean()}\")\n",
        "    print(f\"Precision: {precision}\")\n",
        "    print(f\"Recall: {recall}\")\n",
        "    print(f\"F1 Score: {f1_score}\")\n",
        "    print(f\"Train Accuracy: {train_accuracy}\")\n",
        "    print(f\"Test Accuracy: {test_accuracy}\")\n",
        "    print()\n"
      ]
    },
    {
      "cell_type": "code",
      "execution_count": null,
      "metadata": {
        "colab": {
          "base_uri": "https://localhost:8080/",
          "height": 1000
        },
        "id": "jxR0qp9SZJy_",
        "outputId": "212fa212-5b0f-4dd8-c2ef-3cdffc94c4f4"
      },
      "outputs": [
        {
          "data": {
            "image/png": "[encoded data removed]",
            "text/plain": [
              "<Figure size 640x480 with 2 Axes>"
            ]
          },
          "metadata": {},
          "output_type": "display_data"
        },
        {
          "data": {
            "image/png": "[encoded data removed]",
            "text/plain": [
              "<Figure size 640x480 with 2 Axes>"
            ]
          },
          "metadata": {},
          "output_type": "display_data"
        },
        {
          "data": {
            "image/png": "[encoded data removed]",
            "text/plain": [
              "<Figure size 640x480 with 2 Axes>"
            ]
          },
          "metadata": {},
          "output_type": "display_data"
        }
      ],
      "source": [
        "cmap = ListedColormap([\"#E1F16B\", \"#E598D8\"])\n",
        "\n",
        "for client in clients:\n",
        "    client_model = client[\"model\"]\n",
        "    predictions = client_model.predict(client[\"test_data\"])\n",
        "    cm = confusion_matrix(client[\"test_labels\"], predictions, labels=client_model.classes_)\n",
        "    disp = ConfusionMatrixDisplay(confusion_matrix=cm, display_labels=client_model.classes_)\n",
        "    disp.plot()\n",
        "    plt.show()"
      ]
    }
  ],
  "metadata": {
    "colab": {
      "provenance": []
    },
    "kernelspec": {
      "display_name": "Python 3",
      "name": "python3"
    },
    "language_info": {
      "codemirror_mode": {
        "name": "ipython",
        "version": 3
      },
      "file_extension": ".py",
      "mimetype": "text/x-python",
      "name": "python",
      "nbconvert_exporter": "python",
      "pygments_lexer": "ipython3",
      "version": "3.9.16"
    }
  },
  "nbformat": 4,
  "nbformat_minor": 0
}
